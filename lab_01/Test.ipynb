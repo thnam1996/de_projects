{
 "cells": [
  {
   "cell_type": "code",
   "id": "initial_id",
   "metadata": {
    "collapsed": true,
    "ExecuteTime": {
     "end_time": "2025-10-06T12:19:40.140824Z",
     "start_time": "2025-10-06T12:19:40.138244Z"
    }
   },
   "source": [
    "import pandas as pd\n",
    "from attr import dataclass\n",
    "\n"
   ],
   "outputs": [],
   "execution_count": 95
  },
  {
   "metadata": {},
   "cell_type": "code",
   "outputs": [],
   "execution_count": null,
   "source": "",
   "id": "17d6d834f8df9f36"
  },
  {
   "metadata": {
    "ExecuteTime": {
     "end_time": "2025-10-06T15:20:14.918459Z",
     "start_time": "2025-10-06T15:20:14.873755Z"
    }
   },
   "cell_type": "code",
   "source": "df=pd.read_json(\"data/product_batch_00052.json\")",
   "id": "436ceb520dbb9928",
   "outputs": [],
   "execution_count": 117
  },
  {
   "metadata": {
    "ExecuteTime": {
     "end_time": "2025-10-06T16:00:51.959758Z",
     "start_time": "2025-10-06T16:00:51.955223Z"
    }
   },
   "cell_type": "code",
   "source": "df.columns",
   "id": "5b7a84d1463d083e",
   "outputs": [
    {
     "data": {
      "text/plain": [
       "Index(['id', 'name', 'url_key', 'price', 'description', 'images'], dtype='object')"
      ]
     },
     "execution_count": 130,
     "metadata": {},
     "output_type": "execute_result"
    }
   ],
   "execution_count": 130
  },
  {
   "metadata": {},
   "cell_type": "markdown",
   "source": "#Image",
   "id": "2638942925e91207"
  },
  {
   "metadata": {
    "ExecuteTime": {
     "end_time": "2025-10-06T15:22:49.774627Z",
     "start_time": "2025-10-06T15:22:34.222395Z"
    }
   },
   "cell_type": "code",
   "source": [
    "import os\n",
    "import pandas as pd\n",
    "\n",
    "def listurl(raw):\n",
    "    return [x['base_url'] for x in raw if 'base_url' in x]\n",
    "\n",
    "df1[\"images\"] = df1[\"images\"].apply(lambda v: v if isinstance(v, list) else [])\n",
    "df1['images']=df1['images'].apply(listurl)\n",
    "df1['images']=df1['images'].apply(lambda x: list(dict.fromkeys(x)))\n",
    "\n",
    "\n",
    "for file in os.listdir(\"data\"):\n",
    "    path=os.path.join(\"data/\",file)\n",
    "    df=pd.read_json(path)\n",
    "    df[\"images\"] = df[\"images\"].apply(lambda v: v if isinstance(v, list) else [])\n",
    "    df['images']=df['images'].apply(listurl)\n",
    "    df['images']=df['images'].apply(lambda x: list(dict.fromkeys(x)))\n",
    "    df.to_json(path,orient='records',force_ascii=False,indent=2)\n"
   ],
   "id": "5ccf1f6bd89e1c39",
   "outputs": [],
   "execution_count": 119
  },
  {
   "metadata": {
    "ExecuteTime": {
     "end_time": "2025-10-06T15:13:56.420995Z",
     "start_time": "2025-10-06T15:13:56.418001Z"
    }
   },
   "cell_type": "code",
   "source": [
    "import os\n",
    "import pandas as pd"
   ],
   "id": "1f474cd43aa18c4e",
   "outputs": [],
   "execution_count": 105
  },
  {
   "metadata": {
    "ExecuteTime": {
     "end_time": "2025-10-06T15:23:38.514138Z",
     "start_time": "2025-10-06T15:23:30.698383Z"
    }
   },
   "cell_type": "code",
   "source": [
    "folder=\"data\"\n",
    "dfs=[]\n",
    "for file in os.listdir(folder):\n",
    "    path=os.path.join(folder,file)\n",
    "    df=pd.read_json(path)\n",
    "    dfs.append(df)\n",
    "raw=pd.concat(dfs,ignore_index=True)"
   ],
   "id": "bd7e235179dfda1e",
   "outputs": [],
   "execution_count": 120
  },
  {
   "metadata": {
    "ExecuteTime": {
     "end_time": "2025-10-06T15:23:42.083333Z",
     "start_time": "2025-10-06T15:23:42.078770Z"
    }
   },
   "cell_type": "code",
   "source": "raw.shape[0]",
   "id": "3c0a9018fd4b2c7a",
   "outputs": [
    {
     "data": {
      "text/plain": [
       "198942"
      ]
     },
     "execution_count": 122,
     "metadata": {},
     "output_type": "execute_result"
    }
   ],
   "execution_count": 122
  },
  {
   "metadata": {
    "ExecuteTime": {
     "end_time": "2025-10-06T15:54:21.381662Z",
     "start_time": "2025-10-06T15:54:20.479317Z"
    }
   },
   "cell_type": "code",
   "source": "records=[i[1:] for i in raw.itertuples()]",
   "id": "69c9d80b97459085",
   "outputs": [],
   "execution_count": 129
  },
  {
   "metadata": {
    "ExecuteTime": {
     "end_time": "2025-10-06T16:35:25.440579Z",
     "start_time": "2025-10-06T16:33:12.125049Z"
    }
   },
   "cell_type": "code",
   "source": [
    "import psycopg2\n",
    "from config import load_config\n",
    "\n",
    "def insert_product(records):\n",
    "    #read folder file json tiki product\n",
    "    folder=\"data\"\n",
    "    dfs=[]\n",
    "    for file in os.listdir(folder):\n",
    "        path=os.path.join(folder,file)\n",
    "        df=pd.read_json(path)\n",
    "        dfs.append(df)\n",
    "    raw=pd.concat(dfs,ignore_index=True)\n",
    "    #insert to database tiki_products\n",
    "    sql=\"INSERT INTO tiki_product(id, name, url_key, price, description, images) VALUES (%s, %s, %s, %s, %s, %s)\"\n",
    "    records=[i[1:] for i in raw.itertuples()]\n",
    "    config=load_config()\n",
    "    try:\n",
    "        with  psycopg2.connect(**config) as conn:\n",
    "            with  conn.cursor() as cur:\n",
    "                # execute the INSERT statement\n",
    "                cur.executemany(sql, records)\n",
    "            # commit the changes to the database\n",
    "            conn.commit()\n",
    "    except (Exception, psycopg2.DatabaseError) as error:\n",
    "        print(error)\n",
    "\n",
    "if __name__ == '__main__':\n",
    "    insert_product(records)"
   ],
   "id": "e53d2e1b22310574",
   "outputs": [],
   "execution_count": 154
  }
 ],
 "metadata": {
  "kernelspec": {
   "display_name": "Python 3",
   "language": "python",
   "name": "python3"
  },
  "language_info": {
   "codemirror_mode": {
    "name": "ipython",
    "version": 2
   },
   "file_extension": ".py",
   "mimetype": "text/x-python",
   "name": "python",
   "nbconvert_exporter": "python",
   "pygments_lexer": "ipython2",
   "version": "2.7.6"
  }
 },
 "nbformat": 4,
 "nbformat_minor": 5
}

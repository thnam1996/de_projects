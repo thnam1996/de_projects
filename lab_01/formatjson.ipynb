{
 "cells": [
  {
   "cell_type": "code",
   "id": "initial_id",
   "metadata": {
    "collapsed": true,
    "ExecuteTime": {
     "end_time": "2025-10-06T12:02:05.520338Z",
     "start_time": "2025-10-06T12:02:05.228763Z"
    }
   },
   "source": [
    "import pandas as pd\n",
    "from attr import dataclass\n",
    "\n"
   ],
   "outputs": [],
   "execution_count": 3
  },
  {
   "metadata": {},
   "cell_type": "code",
   "outputs": [],
   "execution_count": null,
   "source": "",
   "id": "17d6d834f8df9f36"
  },
  {
   "metadata": {
    "ExecuteTime": {
     "end_time": "2025-10-06T12:02:07.424138Z",
     "start_time": "2025-10-06T12:02:07.389610Z"
    }
   },
   "cell_type": "code",
   "source": "df=pd.read_json(\"data/product_batch_00052.json\")",
   "id": "436ceb520dbb9928",
   "outputs": [],
   "execution_count": 4
  },
  {
   "metadata": {
    "ExecuteTime": {
     "end_time": "2025-10-06T07:36:42.093129Z",
     "start_time": "2025-10-06T07:36:42.082195Z"
    }
   },
   "cell_type": "code",
   "source": "df.head()",
   "id": "2de8232ad844d495",
   "outputs": [
    {
     "data": {
      "text/plain": [
       "          id                                               name  \\\n",
       "0  186276336  Trống đồ chơi cho bé phát nhạc vui nhộn, âm th...   \n",
       "1   72511839  Đồ chơi vô lăng phát nhạc Playgro Music Drive ...   \n",
       "2  149193565                                    đàn xốp mầm non   \n",
       "3  186435446  Trứng nam châm 78 chi tiết , lắp ráp chữ cái v...   \n",
       "4  169054969     Bộ siêu anh hùng The Hulk người khổng lồ Bo010   \n",
       "\n",
       "                                             url_key   price  \\\n",
       "0  trong-do-choi-cho-be-phat-nhac-vui-nhon-am-tha...  389000   \n",
       "1  do-choi-vo-lang-phat-nhac-playgro-music-drive-...  599000   \n",
       "2                         dan-xop-mam-non-p149193565   49500   \n",
       "3  trung-nam-cham-78-chi-tiet-lap-rap-chu-cai-va-...  165000   \n",
       "4  bo-sieu-anh-hung-the-hulk-nguoi-khong-lo-samki...  172000   \n",
       "\n",
       "                                         description  \\\n",
       "0  Đồ chơi winfun là người bạn tuổi thơ của con t...   \n",
       "1  Đồ chơi vô lăng phát nhạc Playgro Music Drive ...   \n",
       "2  đàn xốp chuyên dùng trong mầm non\\n có hai loạ...   \n",
       "3  TRỨNG NAM CHÂM, ĐỒ CHƠI LẮP RÁP CHỮ SỐ VÀ CHỮ ...   \n",
       "4  - Thương hiệu samkids mẹ nào đã dùng cho con r...   \n",
       "\n",
       "                                              images  \n",
       "0  [{'base_url': 'https://salt.tikicdn.com/ts/pro...  \n",
       "1  [{'base_url': 'https://salt.tikicdn.com/ts/pro...  \n",
       "2  [{'base_url': 'https://salt.tikicdn.com/ts/pro...  \n",
       "3  [{'base_url': 'https://salt.tikicdn.com/ts/pro...  \n",
       "4  [{'base_url': 'https://salt.tikicdn.com/ts/pro...  "
      ],
      "text/html": [
       "<div>\n",
       "<style scoped>\n",
       "    .dataframe tbody tr th:only-of-type {\n",
       "        vertical-align: middle;\n",
       "    }\n",
       "\n",
       "    .dataframe tbody tr th {\n",
       "        vertical-align: top;\n",
       "    }\n",
       "\n",
       "    .dataframe thead th {\n",
       "        text-align: right;\n",
       "    }\n",
       "</style>\n",
       "<table border=\"1\" class=\"dataframe\">\n",
       "  <thead>\n",
       "    <tr style=\"text-align: right;\">\n",
       "      <th></th>\n",
       "      <th>id</th>\n",
       "      <th>name</th>\n",
       "      <th>url_key</th>\n",
       "      <th>price</th>\n",
       "      <th>description</th>\n",
       "      <th>images</th>\n",
       "    </tr>\n",
       "  </thead>\n",
       "  <tbody>\n",
       "    <tr>\n",
       "      <th>0</th>\n",
       "      <td>186276336</td>\n",
       "      <td>Trống đồ chơi cho bé phát nhạc vui nhộn, âm th...</td>\n",
       "      <td>trong-do-choi-cho-be-phat-nhac-vui-nhon-am-tha...</td>\n",
       "      <td>389000</td>\n",
       "      <td>Đồ chơi winfun là người bạn tuổi thơ của con t...</td>\n",
       "      <td>[{'base_url': 'https://salt.tikicdn.com/ts/pro...</td>\n",
       "    </tr>\n",
       "    <tr>\n",
       "      <th>1</th>\n",
       "      <td>72511839</td>\n",
       "      <td>Đồ chơi vô lăng phát nhạc Playgro Music Drive ...</td>\n",
       "      <td>do-choi-vo-lang-phat-nhac-playgro-music-drive-...</td>\n",
       "      <td>599000</td>\n",
       "      <td>Đồ chơi vô lăng phát nhạc Playgro Music Drive ...</td>\n",
       "      <td>[{'base_url': 'https://salt.tikicdn.com/ts/pro...</td>\n",
       "    </tr>\n",
       "    <tr>\n",
       "      <th>2</th>\n",
       "      <td>149193565</td>\n",
       "      <td>đàn xốp mầm non</td>\n",
       "      <td>dan-xop-mam-non-p149193565</td>\n",
       "      <td>49500</td>\n",
       "      <td>đàn xốp chuyên dùng trong mầm non\\n có hai loạ...</td>\n",
       "      <td>[{'base_url': 'https://salt.tikicdn.com/ts/pro...</td>\n",
       "    </tr>\n",
       "    <tr>\n",
       "      <th>3</th>\n",
       "      <td>186435446</td>\n",
       "      <td>Trứng nam châm 78 chi tiết , lắp ráp chữ cái v...</td>\n",
       "      <td>trung-nam-cham-78-chi-tiet-lap-rap-chu-cai-va-...</td>\n",
       "      <td>165000</td>\n",
       "      <td>TRỨNG NAM CHÂM, ĐỒ CHƠI LẮP RÁP CHỮ SỐ VÀ CHỮ ...</td>\n",
       "      <td>[{'base_url': 'https://salt.tikicdn.com/ts/pro...</td>\n",
       "    </tr>\n",
       "    <tr>\n",
       "      <th>4</th>\n",
       "      <td>169054969</td>\n",
       "      <td>Bộ siêu anh hùng The Hulk người khổng lồ Bo010</td>\n",
       "      <td>bo-sieu-anh-hung-the-hulk-nguoi-khong-lo-samki...</td>\n",
       "      <td>172000</td>\n",
       "      <td>- Thương hiệu samkids mẹ nào đã dùng cho con r...</td>\n",
       "      <td>[{'base_url': 'https://salt.tikicdn.com/ts/pro...</td>\n",
       "    </tr>\n",
       "  </tbody>\n",
       "</table>\n",
       "</div>"
      ]
     },
     "execution_count": 7,
     "metadata": {},
     "output_type": "execute_result"
    }
   ],
   "execution_count": 7
  },
  {
   "metadata": {
    "ExecuteTime": {
     "end_time": "2025-10-06T12:02:25.893811Z",
     "start_time": "2025-10-06T12:02:25.887873Z"
    }
   },
   "cell_type": "code",
   "source": "df.columnn\n",
   "id": "6a57328453f9b14",
   "outputs": [
    {
     "data": {
      "text/plain": [
       "id              int64\n",
       "name           object\n",
       "url_key        object\n",
       "price           int64\n",
       "description    object\n",
       "images         object\n",
       "dtype: object"
      ]
     },
     "execution_count": 7,
     "metadata": {},
     "output_type": "execute_result"
    }
   ],
   "execution_count": 7
  },
  {
   "metadata": {
    "ExecuteTime": {
     "end_time": "2025-10-06T10:48:18.349352Z",
     "start_time": "2025-10-06T10:48:18.338470Z"
    }
   },
   "cell_type": "code",
   "source": [
    "def listurl(raw):\n",
    "    return [x['base_url'] for x in raw if 'base_url' in x]\n",
    "\n",
    "df1[\"images\"] = df1[\"images\"].apply(lambda v: v if isinstance(v, list) else [])\n",
    "df1['images']=df1['images'].apply(listurl)\n",
    "df1['images']=df1['images'].apply(lambda x: list(dict.fromkeys(x)))\n",
    "\n",
    "\n",
    "\n"
   ],
   "id": "ff664de4e2ad34ad",
   "outputs": [],
   "execution_count": 91
  },
  {
   "metadata": {
    "ExecuteTime": {
     "end_time": "2025-10-06T10:48:28.026288Z",
     "start_time": "2025-10-06T10:48:28.009679Z"
    }
   },
   "cell_type": "code",
   "source": "df1",
   "id": "2d2522aae2d3058c",
   "outputs": [
    {
     "data": {
      "text/plain": [
       "            id                                               name  \\\n",
       "0    138827803  Cân điện tử sức khỏe PINK PIG hình lợn hồng si...   \n",
       "1    115945868                                           Line 1mm   \n",
       "2    143867758                          Tinh Dầu Răng Miệng MIPHE   \n",
       "3     14845246                     Cân điện tử mặt kính cường lực   \n",
       "4    115945568                                      Bát ngâm móng   \n",
       "..         ...                                                ...   \n",
       "995  207391268  Máy Massage mắt Duplex Korea 2022 - 3 chế độ m...   \n",
       "996  262045509  Khẩu trang 4d kf94 cho bé 4 lớp kháng khuẩn ng...   \n",
       "997   71987565               Khẩu trang vải kháng khuẩn NTB 3 lớp   \n",
       "998  245032293  Thảm lau chân massage tự động giúp lưu thông m...   \n",
       "999  139429580                          MÁY MASSAGE CẦM TAY 7 ĐẦU   \n",
       "\n",
       "                                               url_key    price  \\\n",
       "0    can-dien-tu-suc-khoe-pink-pig-hinh-lon-hong-si...    79000   \n",
       "1                                  line-1mm-p115945868     5000   \n",
       "2                 tinh-dau-rang-mieng-miphe-p143867758   449000   \n",
       "3             can-dien-tu-mat-kinh-cuong-luc-p14845246   115000   \n",
       "4                             bat-ngam-mong-p115945568    15000   \n",
       "..                                                 ...      ...   \n",
       "995  may-massage-mat-duplex-korea-2022-3-che-do-mas...  1290000   \n",
       "996  khau-trang-4d-kf94-cho-be-4-lop-khang-khuan-ng...    10000   \n",
       "997     khau-trang-vai-khang-khuan-ntb-3-lop-p71987565    18000   \n",
       "998  tham-lau-chan-massage-tu-dong-giup-luu-thong-m...    76000   \n",
       "999               may-massage-cam-tay-7-dau-p139429580   538000   \n",
       "\n",
       "                                           description  \\\n",
       "0    CÂN ĐIỆN TỬ SỨC KHOẺ PINK PIG️️\\n Cân điện tử ...   \n",
       "1    Line dùng để dính móng,tạo kiểu cho móng của b...   \n",
       "2    Với thành phần thảo dược hoàn toàn tự nhiên, g...   \n",
       "3    Chữ số kích thước xấp xỉ 26 mm.\\nBề mặt phẳng,...   \n",
       "4    Shop chuyên cung cấp các sản phẩm nail đa dạng...   \n",
       "..                                                 ...   \n",
       "995  Nguồn điện: Sử dụng Pin Lithium có thể sạc lại...   \n",
       "996  Khẩu trang 4d kf94 cho bé 4 lớp kháng khuẩn, v...   \n",
       "997  Khẩu trang vải kháng khuẩn NTB 3 lớp:\\nGồm 3 l...   \n",
       "998  thảm lau chân massage.\\n Giúp bạn massage ch...   \n",
       "999  – Máy massage 7 đầu King SL 999 là một sản phẩ...   \n",
       "\n",
       "                                                images  \n",
       "0    [https://salt.tikicdn.com/ts/product/ec/47/d8/...  \n",
       "1    [https://salt.tikicdn.com/ts/product/7a/0b/aa/...  \n",
       "2    [https://salt.tikicdn.com/ts/product/9c/ed/9f/...  \n",
       "3    [https://salt.tikicdn.com/ts/product/5b/5c/d3/...  \n",
       "4    [https://salt.tikicdn.com/ts/product/ef/4f/f2/...  \n",
       "..                                                 ...  \n",
       "995  [https://salt.tikicdn.com/ts/product/2c/d3/5b/...  \n",
       "996  [https://salt.tikicdn.com/media/catalog/produc...  \n",
       "997  [https://salt.tikicdn.com/ts/product/de/25/12/...  \n",
       "998  [https://salt.tikicdn.com/ts/product/a7/34/74/...  \n",
       "999  [https://salt.tikicdn.com/ts/product/61/c7/22/...  \n",
       "\n",
       "[1000 rows x 6 columns]"
      ],
      "text/html": [
       "<div>\n",
       "<style scoped>\n",
       "    .dataframe tbody tr th:only-of-type {\n",
       "        vertical-align: middle;\n",
       "    }\n",
       "\n",
       "    .dataframe tbody tr th {\n",
       "        vertical-align: top;\n",
       "    }\n",
       "\n",
       "    .dataframe thead th {\n",
       "        text-align: right;\n",
       "    }\n",
       "</style>\n",
       "<table border=\"1\" class=\"dataframe\">\n",
       "  <thead>\n",
       "    <tr style=\"text-align: right;\">\n",
       "      <th></th>\n",
       "      <th>id</th>\n",
       "      <th>name</th>\n",
       "      <th>url_key</th>\n",
       "      <th>price</th>\n",
       "      <th>description</th>\n",
       "      <th>images</th>\n",
       "    </tr>\n",
       "  </thead>\n",
       "  <tbody>\n",
       "    <tr>\n",
       "      <th>0</th>\n",
       "      <td>138827803</td>\n",
       "      <td>Cân điện tử sức khỏe PINK PIG hình lợn hồng si...</td>\n",
       "      <td>can-dien-tu-suc-khoe-pink-pig-hinh-lon-hong-si...</td>\n",
       "      <td>79000</td>\n",
       "      <td>CÂN ĐIỆN TỬ SỨC KHOẺ PINK PIG️️\\n Cân điện tử ...</td>\n",
       "      <td>[https://salt.tikicdn.com/ts/product/ec/47/d8/...</td>\n",
       "    </tr>\n",
       "    <tr>\n",
       "      <th>1</th>\n",
       "      <td>115945868</td>\n",
       "      <td>Line 1mm</td>\n",
       "      <td>line-1mm-p115945868</td>\n",
       "      <td>5000</td>\n",
       "      <td>Line dùng để dính móng,tạo kiểu cho móng của b...</td>\n",
       "      <td>[https://salt.tikicdn.com/ts/product/7a/0b/aa/...</td>\n",
       "    </tr>\n",
       "    <tr>\n",
       "      <th>2</th>\n",
       "      <td>143867758</td>\n",
       "      <td>Tinh Dầu Răng Miệng MIPHE</td>\n",
       "      <td>tinh-dau-rang-mieng-miphe-p143867758</td>\n",
       "      <td>449000</td>\n",
       "      <td>Với thành phần thảo dược hoàn toàn tự nhiên, g...</td>\n",
       "      <td>[https://salt.tikicdn.com/ts/product/9c/ed/9f/...</td>\n",
       "    </tr>\n",
       "    <tr>\n",
       "      <th>3</th>\n",
       "      <td>14845246</td>\n",
       "      <td>Cân điện tử mặt kính cường lực</td>\n",
       "      <td>can-dien-tu-mat-kinh-cuong-luc-p14845246</td>\n",
       "      <td>115000</td>\n",
       "      <td>Chữ số kích thước xấp xỉ 26 mm.\\nBề mặt phẳng,...</td>\n",
       "      <td>[https://salt.tikicdn.com/ts/product/5b/5c/d3/...</td>\n",
       "    </tr>\n",
       "    <tr>\n",
       "      <th>4</th>\n",
       "      <td>115945568</td>\n",
       "      <td>Bát ngâm móng</td>\n",
       "      <td>bat-ngam-mong-p115945568</td>\n",
       "      <td>15000</td>\n",
       "      <td>Shop chuyên cung cấp các sản phẩm nail đa dạng...</td>\n",
       "      <td>[https://salt.tikicdn.com/ts/product/ef/4f/f2/...</td>\n",
       "    </tr>\n",
       "    <tr>\n",
       "      <th>...</th>\n",
       "      <td>...</td>\n",
       "      <td>...</td>\n",
       "      <td>...</td>\n",
       "      <td>...</td>\n",
       "      <td>...</td>\n",
       "      <td>...</td>\n",
       "    </tr>\n",
       "    <tr>\n",
       "      <th>995</th>\n",
       "      <td>207391268</td>\n",
       "      <td>Máy Massage mắt Duplex Korea 2022 - 3 chế độ m...</td>\n",
       "      <td>may-massage-mat-duplex-korea-2022-3-che-do-mas...</td>\n",
       "      <td>1290000</td>\n",
       "      <td>Nguồn điện: Sử dụng Pin Lithium có thể sạc lại...</td>\n",
       "      <td>[https://salt.tikicdn.com/ts/product/2c/d3/5b/...</td>\n",
       "    </tr>\n",
       "    <tr>\n",
       "      <th>996</th>\n",
       "      <td>262045509</td>\n",
       "      <td>Khẩu trang 4d kf94 cho bé 4 lớp kháng khuẩn ng...</td>\n",
       "      <td>khau-trang-4d-kf94-cho-be-4-lop-khang-khuan-ng...</td>\n",
       "      <td>10000</td>\n",
       "      <td>Khẩu trang 4d kf94 cho bé 4 lớp kháng khuẩn, v...</td>\n",
       "      <td>[https://salt.tikicdn.com/media/catalog/produc...</td>\n",
       "    </tr>\n",
       "    <tr>\n",
       "      <th>997</th>\n",
       "      <td>71987565</td>\n",
       "      <td>Khẩu trang vải kháng khuẩn NTB 3 lớp</td>\n",
       "      <td>khau-trang-vai-khang-khuan-ntb-3-lop-p71987565</td>\n",
       "      <td>18000</td>\n",
       "      <td>Khẩu trang vải kháng khuẩn NTB 3 lớp:\\nGồm 3 l...</td>\n",
       "      <td>[https://salt.tikicdn.com/ts/product/de/25/12/...</td>\n",
       "    </tr>\n",
       "    <tr>\n",
       "      <th>998</th>\n",
       "      <td>245032293</td>\n",
       "      <td>Thảm lau chân massage tự động giúp lưu thông m...</td>\n",
       "      <td>tham-lau-chan-massage-tu-dong-giup-luu-thong-m...</td>\n",
       "      <td>76000</td>\n",
       "      <td>thảm lau chân massage.\\n Giúp bạn massage ch...</td>\n",
       "      <td>[https://salt.tikicdn.com/ts/product/a7/34/74/...</td>\n",
       "    </tr>\n",
       "    <tr>\n",
       "      <th>999</th>\n",
       "      <td>139429580</td>\n",
       "      <td>MÁY MASSAGE CẦM TAY 7 ĐẦU</td>\n",
       "      <td>may-massage-cam-tay-7-dau-p139429580</td>\n",
       "      <td>538000</td>\n",
       "      <td>– Máy massage 7 đầu King SL 999 là một sản phẩ...</td>\n",
       "      <td>[https://salt.tikicdn.com/ts/product/61/c7/22/...</td>\n",
       "    </tr>\n",
       "  </tbody>\n",
       "</table>\n",
       "<p>1000 rows × 6 columns</p>\n",
       "</div>"
      ]
     },
     "execution_count": 94,
     "metadata": {},
     "output_type": "execute_result"
    }
   ],
   "execution_count": 94
  },
  {
   "metadata": {},
   "cell_type": "code",
   "outputs": [],
   "execution_count": null,
   "source": [
    "folder=\"data/\"\n",
    "\n",
    "with open(folder)"
   ],
   "id": "7ae9578100ea3483"
  },
  {
   "metadata": {},
   "cell_type": "markdown",
   "source": "",
   "id": "269d92b84c7e2045"
  },
  {
   "metadata": {},
   "cell_type": "markdown",
   "source": "",
   "id": "b765880fb548dc0b"
  },
  {
   "metadata": {},
   "cell_type": "code",
   "outputs": [],
   "execution_count": null,
   "source": "",
   "id": "9b2e20a0107e00d"
  },
  {
   "metadata": {
    "ExecuteTime": {
     "end_time": "2025-10-06T10:43:17.422154Z",
     "start_time": "2025-10-06T10:43:17.157668Z"
    }
   },
   "cell_type": "code",
   "source": [
    "import os\n",
    "\n",
    "for file in os.listdir(\"data\"):\n",
    "    path=os.path.join(\"data/\",file)\n",
    "    df=pd.read_json(path)\n",
    "    df[\"images\"] = df[\"images\"].apply(lambda v: v if isinstance(v, list) else [])\n",
    "    df['images']=df['images'].apply(listurl)\n",
    "    df['images']=df['images'].apply(lambda x: list(dict.fromkeys(x)))\n",
    "    df.to_json(path,orient='records',force_ascii=False,indent=2)\n"
   ],
   "id": "5ccf1f6bd89e1c39",
   "outputs": [],
   "execution_count": 78
  }
 ],
 "metadata": {
  "kernelspec": {
   "display_name": "Python 3",
   "language": "python",
   "name": "python3"
  },
  "language_info": {
   "codemirror_mode": {
    "name": "ipython",
    "version": 2
   },
   "file_extension": ".py",
   "mimetype": "text/x-python",
   "name": "python",
   "nbconvert_exporter": "python",
   "pygments_lexer": "ipython2",
   "version": "2.7.6"
  }
 },
 "nbformat": 4,
 "nbformat_minor": 5
}

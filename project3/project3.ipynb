{
 "cells": [
  {
   "cell_type": "code",
   "id": "initial_id",
   "metadata": {
    "collapsed": true,
    "ExecuteTime": {
     "end_time": "2025-10-07T17:50:32.486425Z",
     "start_time": "2025-10-07T17:50:32.154152Z"
    }
   },
   "source": "import pandas as pd",
   "outputs": [],
   "execution_count": 1
  },
  {
   "metadata": {},
   "cell_type": "markdown",
   "source": "### 1. Read file csv from URL",
   "id": "1521f78b3b1781bc"
  },
  {
   "metadata": {
    "ExecuteTime": {
     "end_time": "2025-10-07T17:50:35.549461Z",
     "start_time": "2025-10-07T17:50:32.497699Z"
    }
   },
   "cell_type": "code",
   "source": "df=pd.read_csv(\"https://raw.githubusercontent.com/yinghaoz1/tmdb-movie-dataset-analysis/master/tmdb-movies.csv\")",
   "id": "5e5fcbb84a731666",
   "outputs": [],
   "execution_count": 2
  },
  {
   "metadata": {},
   "cell_type": "markdown",
   "source": "### 2. Sort movies by release date",
   "id": "84024b0678e8a1a"
  },
  {
   "metadata": {
    "ExecuteTime": {
     "end_time": "2025-10-07T17:50:36.365435Z",
     "start_time": "2025-10-07T17:50:35.928139Z"
    }
   },
   "cell_type": "code",
   "source": [
    "df['release_date']=pd.to_datetime(df['release_date'],format='%m/%d/%y',errors='coerce')\n",
    "df.loc[df['release_date'].dt.year>2025,'release_date']-=pd.DateOffset(years=100)\n",
    "df_sort_release_date = df.sort_values(by=\"release_date\", ascending=False)\n",
    "df_sort_release_date.to_csv(\"df_sort_relear_date.csv\",index=False)"
   ],
   "id": "4088c72fcd958ee5",
   "outputs": [],
   "execution_count": 3
  },
  {
   "metadata": {},
   "cell_type": "markdown",
   "source": "### 3. Find list movies with rating above 7.5",
   "id": "33f0b68d6f3ece5f"
  },
  {
   "metadata": {
    "ExecuteTime": {
     "end_time": "2025-10-07T17:50:36.476746Z",
     "start_time": "2025-10-07T17:50:36.448775Z"
    }
   },
   "cell_type": "code",
   "source": [
    "df_rating_above_75=df.loc[df['vote_average']>7.5].sort_values(by='vote_average', ascending=False)\n",
    "df_rating_above_75.to_csv(\"df_rating_above_75.csv\",index=False)"
   ],
   "id": "42b14cf37d31373e",
   "outputs": [],
   "execution_count": 4
  },
  {
   "metadata": {
    "ExecuteTime": {
     "end_time": "2025-10-07T15:50:44.404283Z",
     "start_time": "2025-10-07T15:50:44.400863Z"
    }
   },
   "cell_type": "markdown",
   "source": "### 4. Find the highest & lowest revenue movie",
   "id": "2c6ab9f8e46c72a"
  },
  {
   "metadata": {
    "ExecuteTime": {
     "end_time": "2025-10-07T17:50:36.594980Z",
     "start_time": "2025-10-07T17:50:36.565235Z"
    }
   },
   "cell_type": "code",
   "source": [
    "#top_revenue_movie\n",
    "df.loc[df['revenue']==df['revenue'].max()][['original_title','revenue']]\n"
   ],
   "id": "ccf4fc6b206e7079",
   "outputs": [
    {
     "data": {
      "text/plain": [
       "     original_title     revenue\n",
       "1386         Avatar  2781505847"
      ],
      "text/html": [
       "<div>\n",
       "<style scoped>\n",
       "    .dataframe tbody tr th:only-of-type {\n",
       "        vertical-align: middle;\n",
       "    }\n",
       "\n",
       "    .dataframe tbody tr th {\n",
       "        vertical-align: top;\n",
       "    }\n",
       "\n",
       "    .dataframe thead th {\n",
       "        text-align: right;\n",
       "    }\n",
       "</style>\n",
       "<table border=\"1\" class=\"dataframe\">\n",
       "  <thead>\n",
       "    <tr style=\"text-align: right;\">\n",
       "      <th></th>\n",
       "      <th>original_title</th>\n",
       "      <th>revenue</th>\n",
       "    </tr>\n",
       "  </thead>\n",
       "  <tbody>\n",
       "    <tr>\n",
       "      <th>1386</th>\n",
       "      <td>Avatar</td>\n",
       "      <td>2781505847</td>\n",
       "    </tr>\n",
       "  </tbody>\n",
       "</table>\n",
       "</div>"
      ]
     },
     "execution_count": 5,
     "metadata": {},
     "output_type": "execute_result"
    }
   ],
   "execution_count": 5
  },
  {
   "metadata": {
    "ExecuteTime": {
     "end_time": "2025-10-07T17:50:36.763688Z",
     "start_time": "2025-10-07T17:50:36.743705Z"
    }
   },
   "cell_type": "code",
   "source": [
    "#low_revenue_movie\n",
    "df.loc[df['revenue']==df['revenue'].min()][['original_title','revenue']]"
   ],
   "id": "47bf481974e71512",
   "outputs": [
    {
     "data": {
      "text/plain": [
       "                       original_title  revenue\n",
       "48                          Wild Card        0\n",
       "67                           Survivor        0\n",
       "74             Mythica: The Darkspore        0\n",
       "75     Me and Earl and the Dying Girl        0\n",
       "92           Mythica: The Necromancer        0\n",
       "...                               ...      ...\n",
       "10861              The Endless Summer        0\n",
       "10862                      Grand Prix        0\n",
       "10863             Beregis Avtomobilya        0\n",
       "10864          What's Up, Tiger Lily?        0\n",
       "10865        Manos: The Hands of Fate        0\n",
       "\n",
       "[6016 rows x 2 columns]"
      ],
      "text/html": [
       "<div>\n",
       "<style scoped>\n",
       "    .dataframe tbody tr th:only-of-type {\n",
       "        vertical-align: middle;\n",
       "    }\n",
       "\n",
       "    .dataframe tbody tr th {\n",
       "        vertical-align: top;\n",
       "    }\n",
       "\n",
       "    .dataframe thead th {\n",
       "        text-align: right;\n",
       "    }\n",
       "</style>\n",
       "<table border=\"1\" class=\"dataframe\">\n",
       "  <thead>\n",
       "    <tr style=\"text-align: right;\">\n",
       "      <th></th>\n",
       "      <th>original_title</th>\n",
       "      <th>revenue</th>\n",
       "    </tr>\n",
       "  </thead>\n",
       "  <tbody>\n",
       "    <tr>\n",
       "      <th>48</th>\n",
       "      <td>Wild Card</td>\n",
       "      <td>0</td>\n",
       "    </tr>\n",
       "    <tr>\n",
       "      <th>67</th>\n",
       "      <td>Survivor</td>\n",
       "      <td>0</td>\n",
       "    </tr>\n",
       "    <tr>\n",
       "      <th>74</th>\n",
       "      <td>Mythica: The Darkspore</td>\n",
       "      <td>0</td>\n",
       "    </tr>\n",
       "    <tr>\n",
       "      <th>75</th>\n",
       "      <td>Me and Earl and the Dying Girl</td>\n",
       "      <td>0</td>\n",
       "    </tr>\n",
       "    <tr>\n",
       "      <th>92</th>\n",
       "      <td>Mythica: The Necromancer</td>\n",
       "      <td>0</td>\n",
       "    </tr>\n",
       "    <tr>\n",
       "      <th>...</th>\n",
       "      <td>...</td>\n",
       "      <td>...</td>\n",
       "    </tr>\n",
       "    <tr>\n",
       "      <th>10861</th>\n",
       "      <td>The Endless Summer</td>\n",
       "      <td>0</td>\n",
       "    </tr>\n",
       "    <tr>\n",
       "      <th>10862</th>\n",
       "      <td>Grand Prix</td>\n",
       "      <td>0</td>\n",
       "    </tr>\n",
       "    <tr>\n",
       "      <th>10863</th>\n",
       "      <td>Beregis Avtomobilya</td>\n",
       "      <td>0</td>\n",
       "    </tr>\n",
       "    <tr>\n",
       "      <th>10864</th>\n",
       "      <td>What's Up, Tiger Lily?</td>\n",
       "      <td>0</td>\n",
       "    </tr>\n",
       "    <tr>\n",
       "      <th>10865</th>\n",
       "      <td>Manos: The Hands of Fate</td>\n",
       "      <td>0</td>\n",
       "    </tr>\n",
       "  </tbody>\n",
       "</table>\n",
       "<p>6016 rows × 2 columns</p>\n",
       "</div>"
      ]
     },
     "execution_count": 6,
     "metadata": {},
     "output_type": "execute_result"
    }
   ],
   "execution_count": 6
  },
  {
   "metadata": {},
   "cell_type": "markdown",
   "source": "### 5. Caculate total revenue of all movies",
   "id": "f8b316202ace95eb"
  },
  {
   "metadata": {
    "ExecuteTime": {
     "end_time": "2025-10-07T17:50:37.216180Z",
     "start_time": "2025-10-07T17:50:37.209621Z"
    }
   },
   "cell_type": "code",
   "source": [
    "#Total Revenue\n",
    "total_revenue=df['revenue'].sum()\n",
    "print(\"Total revenue of all movies: ${:,}\".format(total_revenue))"
   ],
   "id": "fba1b7d202790a34",
   "outputs": [
    {
     "name": "stdout",
     "output_type": "stream",
     "text": [
      "Total revenue of all movies: $432,720,192,875\n"
     ]
    }
   ],
   "execution_count": 7
  },
  {
   "metadata": {},
   "cell_type": "markdown",
   "source": "### 6. Find top 10 profit movies",
   "id": "2d49430c8391bac9"
  },
  {
   "metadata": {
    "ExecuteTime": {
     "end_time": "2025-10-07T17:50:37.400068Z",
     "start_time": "2025-10-07T17:50:37.372810Z"
    }
   },
   "cell_type": "code",
   "source": [
    "#find 10 profit movies\n",
    "df['profit']=df['revenue']-df['budget']\n",
    "top_10_profit= df.nlargest(10,'profit')[['original_title','profit','revenue','budget']].sort_values(by='profit', ascending=False)\n",
    "top_10_profit\n"
   ],
   "id": "373a80d06e298726",
   "outputs": [
    {
     "data": {
      "text/plain": [
       "                                    original_title      profit     revenue  \\\n",
       "1386                                        Avatar  2544505847  2781505847   \n",
       "3                     Star Wars: The Force Awakens  1868178225  2068178225   \n",
       "5231                                       Titanic  1645034188  1845034188   \n",
       "0                                   Jurassic World  1363528810  1513528810   \n",
       "4                                        Furious 7  1316249360  1506249360   \n",
       "4361                                  The Avengers  1299557910  1519557910   \n",
       "3374  Harry Potter and the Deathly Hallows: Part 2  1202817822  1327817822   \n",
       "14                         Avengers: Age of Ultron  1125035767  1405035767   \n",
       "5422                                        Frozen  1124219009  1274219009   \n",
       "8094                                       The Net  1084279658  1106279658   \n",
       "\n",
       "         budget  \n",
       "1386  237000000  \n",
       "3     200000000  \n",
       "5231  200000000  \n",
       "0     150000000  \n",
       "4     190000000  \n",
       "4361  220000000  \n",
       "3374  125000000  \n",
       "14    280000000  \n",
       "5422  150000000  \n",
       "8094   22000000  "
      ],
      "text/html": [
       "<div>\n",
       "<style scoped>\n",
       "    .dataframe tbody tr th:only-of-type {\n",
       "        vertical-align: middle;\n",
       "    }\n",
       "\n",
       "    .dataframe tbody tr th {\n",
       "        vertical-align: top;\n",
       "    }\n",
       "\n",
       "    .dataframe thead th {\n",
       "        text-align: right;\n",
       "    }\n",
       "</style>\n",
       "<table border=\"1\" class=\"dataframe\">\n",
       "  <thead>\n",
       "    <tr style=\"text-align: right;\">\n",
       "      <th></th>\n",
       "      <th>original_title</th>\n",
       "      <th>profit</th>\n",
       "      <th>revenue</th>\n",
       "      <th>budget</th>\n",
       "    </tr>\n",
       "  </thead>\n",
       "  <tbody>\n",
       "    <tr>\n",
       "      <th>1386</th>\n",
       "      <td>Avatar</td>\n",
       "      <td>2544505847</td>\n",
       "      <td>2781505847</td>\n",
       "      <td>237000000</td>\n",
       "    </tr>\n",
       "    <tr>\n",
       "      <th>3</th>\n",
       "      <td>Star Wars: The Force Awakens</td>\n",
       "      <td>1868178225</td>\n",
       "      <td>2068178225</td>\n",
       "      <td>200000000</td>\n",
       "    </tr>\n",
       "    <tr>\n",
       "      <th>5231</th>\n",
       "      <td>Titanic</td>\n",
       "      <td>1645034188</td>\n",
       "      <td>1845034188</td>\n",
       "      <td>200000000</td>\n",
       "    </tr>\n",
       "    <tr>\n",
       "      <th>0</th>\n",
       "      <td>Jurassic World</td>\n",
       "      <td>1363528810</td>\n",
       "      <td>1513528810</td>\n",
       "      <td>150000000</td>\n",
       "    </tr>\n",
       "    <tr>\n",
       "      <th>4</th>\n",
       "      <td>Furious 7</td>\n",
       "      <td>1316249360</td>\n",
       "      <td>1506249360</td>\n",
       "      <td>190000000</td>\n",
       "    </tr>\n",
       "    <tr>\n",
       "      <th>4361</th>\n",
       "      <td>The Avengers</td>\n",
       "      <td>1299557910</td>\n",
       "      <td>1519557910</td>\n",
       "      <td>220000000</td>\n",
       "    </tr>\n",
       "    <tr>\n",
       "      <th>3374</th>\n",
       "      <td>Harry Potter and the Deathly Hallows: Part 2</td>\n",
       "      <td>1202817822</td>\n",
       "      <td>1327817822</td>\n",
       "      <td>125000000</td>\n",
       "    </tr>\n",
       "    <tr>\n",
       "      <th>14</th>\n",
       "      <td>Avengers: Age of Ultron</td>\n",
       "      <td>1125035767</td>\n",
       "      <td>1405035767</td>\n",
       "      <td>280000000</td>\n",
       "    </tr>\n",
       "    <tr>\n",
       "      <th>5422</th>\n",
       "      <td>Frozen</td>\n",
       "      <td>1124219009</td>\n",
       "      <td>1274219009</td>\n",
       "      <td>150000000</td>\n",
       "    </tr>\n",
       "    <tr>\n",
       "      <th>8094</th>\n",
       "      <td>The Net</td>\n",
       "      <td>1084279658</td>\n",
       "      <td>1106279658</td>\n",
       "      <td>22000000</td>\n",
       "    </tr>\n",
       "  </tbody>\n",
       "</table>\n",
       "</div>"
      ]
     },
     "execution_count": 8,
     "metadata": {},
     "output_type": "execute_result"
    }
   ],
   "execution_count": 8
  },
  {
   "metadata": {},
   "cell_type": "markdown",
   "source": "### 7.1 Director with most movies",
   "id": "dad05489fa4efc14"
  },
  {
   "metadata": {
    "ExecuteTime": {
     "end_time": "2025-10-07T17:50:37.927850Z",
     "start_time": "2025-10-07T17:50:37.900644Z"
    }
   },
   "cell_type": "code",
   "source": "df.groupby('director', as_index=False)['id'].nunique().rename(columns={'id':'total_movies'}).nlargest(1,'total_movies')",
   "id": "24ce1f7a192d2d0f",
   "outputs": [
    {
     "data": {
      "text/plain": [
       "         director  total_movies\n",
       "4999  Woody Allen            45"
      ],
      "text/html": [
       "<div>\n",
       "<style scoped>\n",
       "    .dataframe tbody tr th:only-of-type {\n",
       "        vertical-align: middle;\n",
       "    }\n",
       "\n",
       "    .dataframe tbody tr th {\n",
       "        vertical-align: top;\n",
       "    }\n",
       "\n",
       "    .dataframe thead th {\n",
       "        text-align: right;\n",
       "    }\n",
       "</style>\n",
       "<table border=\"1\" class=\"dataframe\">\n",
       "  <thead>\n",
       "    <tr style=\"text-align: right;\">\n",
       "      <th></th>\n",
       "      <th>director</th>\n",
       "      <th>total_movies</th>\n",
       "    </tr>\n",
       "  </thead>\n",
       "  <tbody>\n",
       "    <tr>\n",
       "      <th>4999</th>\n",
       "      <td>Woody Allen</td>\n",
       "      <td>45</td>\n",
       "    </tr>\n",
       "  </tbody>\n",
       "</table>\n",
       "</div>"
      ]
     },
     "execution_count": 9,
     "metadata": {},
     "output_type": "execute_result"
    }
   ],
   "execution_count": 9
  },
  {
   "metadata": {
    "ExecuteTime": {
     "end_time": "2025-10-07T05:39:45.232686Z",
     "start_time": "2025-10-07T05:39:45.229564Z"
    }
   },
   "cell_type": "markdown",
   "source": "### 7.2 Actors with most movies\n",
   "id": "14ee202df6625011"
  },
  {
   "metadata": {
    "ExecuteTime": {
     "end_time": "2025-10-07T17:50:38.209362Z",
     "start_time": "2025-10-07T17:50:38.140802Z"
    }
   },
   "cell_type": "code",
   "source": "df['cast'].str.split('|').explode().value_counts().reset_index(name='total_movies').nlargest(1, 'total_movies')",
   "id": "11de60b8ccd9a039",
   "outputs": [
    {
     "data": {
      "text/plain": [
       "             cast  total_movies\n",
       "0  Robert De Niro            72"
      ],
      "text/html": [
       "<div>\n",
       "<style scoped>\n",
       "    .dataframe tbody tr th:only-of-type {\n",
       "        vertical-align: middle;\n",
       "    }\n",
       "\n",
       "    .dataframe tbody tr th {\n",
       "        vertical-align: top;\n",
       "    }\n",
       "\n",
       "    .dataframe thead th {\n",
       "        text-align: right;\n",
       "    }\n",
       "</style>\n",
       "<table border=\"1\" class=\"dataframe\">\n",
       "  <thead>\n",
       "    <tr style=\"text-align: right;\">\n",
       "      <th></th>\n",
       "      <th>cast</th>\n",
       "      <th>total_movies</th>\n",
       "    </tr>\n",
       "  </thead>\n",
       "  <tbody>\n",
       "    <tr>\n",
       "      <th>0</th>\n",
       "      <td>Robert De Niro</td>\n",
       "      <td>72</td>\n",
       "    </tr>\n",
       "  </tbody>\n",
       "</table>\n",
       "</div>"
      ]
     },
     "execution_count": 10,
     "metadata": {},
     "output_type": "execute_result"
    }
   ],
   "execution_count": 10
  },
  {
   "metadata": {},
   "cell_type": "markdown",
   "source": "### 8. Find number of movies per genres",
   "id": "98aa6d1db98af367"
  },
  {
   "metadata": {
    "ExecuteTime": {
     "end_time": "2025-10-07T17:50:38.553428Z",
     "start_time": "2025-10-07T17:50:38.518710Z"
    }
   },
   "cell_type": "code",
   "source": "df['genres'].str.split('|').explode().value_counts().reset_index(name='total_movies')",
   "id": "f4c97c6ce5c6adf",
   "outputs": [
    {
     "data": {
      "text/plain": [
       "             genres  total_movies\n",
       "0             Drama          4761\n",
       "1            Comedy          3793\n",
       "2          Thriller          2908\n",
       "3            Action          2385\n",
       "4           Romance          1712\n",
       "5            Horror          1637\n",
       "6         Adventure          1471\n",
       "7             Crime          1355\n",
       "8            Family          1231\n",
       "9   Science Fiction          1230\n",
       "10          Fantasy           916\n",
       "11          Mystery           810\n",
       "12        Animation           699\n",
       "13      Documentary           520\n",
       "14            Music           408\n",
       "15          History           334\n",
       "16              War           270\n",
       "17          Foreign           188\n",
       "18         TV Movie           167\n",
       "19          Western           165"
      ],
      "text/html": [
       "<div>\n",
       "<style scoped>\n",
       "    .dataframe tbody tr th:only-of-type {\n",
       "        vertical-align: middle;\n",
       "    }\n",
       "\n",
       "    .dataframe tbody tr th {\n",
       "        vertical-align: top;\n",
       "    }\n",
       "\n",
       "    .dataframe thead th {\n",
       "        text-align: right;\n",
       "    }\n",
       "</style>\n",
       "<table border=\"1\" class=\"dataframe\">\n",
       "  <thead>\n",
       "    <tr style=\"text-align: right;\">\n",
       "      <th></th>\n",
       "      <th>genres</th>\n",
       "      <th>total_movies</th>\n",
       "    </tr>\n",
       "  </thead>\n",
       "  <tbody>\n",
       "    <tr>\n",
       "      <th>0</th>\n",
       "      <td>Drama</td>\n",
       "      <td>4761</td>\n",
       "    </tr>\n",
       "    <tr>\n",
       "      <th>1</th>\n",
       "      <td>Comedy</td>\n",
       "      <td>3793</td>\n",
       "    </tr>\n",
       "    <tr>\n",
       "      <th>2</th>\n",
       "      <td>Thriller</td>\n",
       "      <td>2908</td>\n",
       "    </tr>\n",
       "    <tr>\n",
       "      <th>3</th>\n",
       "      <td>Action</td>\n",
       "      <td>2385</td>\n",
       "    </tr>\n",
       "    <tr>\n",
       "      <th>4</th>\n",
       "      <td>Romance</td>\n",
       "      <td>1712</td>\n",
       "    </tr>\n",
       "    <tr>\n",
       "      <th>5</th>\n",
       "      <td>Horror</td>\n",
       "      <td>1637</td>\n",
       "    </tr>\n",
       "    <tr>\n",
       "      <th>6</th>\n",
       "      <td>Adventure</td>\n",
       "      <td>1471</td>\n",
       "    </tr>\n",
       "    <tr>\n",
       "      <th>7</th>\n",
       "      <td>Crime</td>\n",
       "      <td>1355</td>\n",
       "    </tr>\n",
       "    <tr>\n",
       "      <th>8</th>\n",
       "      <td>Family</td>\n",
       "      <td>1231</td>\n",
       "    </tr>\n",
       "    <tr>\n",
       "      <th>9</th>\n",
       "      <td>Science Fiction</td>\n",
       "      <td>1230</td>\n",
       "    </tr>\n",
       "    <tr>\n",
       "      <th>10</th>\n",
       "      <td>Fantasy</td>\n",
       "      <td>916</td>\n",
       "    </tr>\n",
       "    <tr>\n",
       "      <th>11</th>\n",
       "      <td>Mystery</td>\n",
       "      <td>810</td>\n",
       "    </tr>\n",
       "    <tr>\n",
       "      <th>12</th>\n",
       "      <td>Animation</td>\n",
       "      <td>699</td>\n",
       "    </tr>\n",
       "    <tr>\n",
       "      <th>13</th>\n",
       "      <td>Documentary</td>\n",
       "      <td>520</td>\n",
       "    </tr>\n",
       "    <tr>\n",
       "      <th>14</th>\n",
       "      <td>Music</td>\n",
       "      <td>408</td>\n",
       "    </tr>\n",
       "    <tr>\n",
       "      <th>15</th>\n",
       "      <td>History</td>\n",
       "      <td>334</td>\n",
       "    </tr>\n",
       "    <tr>\n",
       "      <th>16</th>\n",
       "      <td>War</td>\n",
       "      <td>270</td>\n",
       "    </tr>\n",
       "    <tr>\n",
       "      <th>17</th>\n",
       "      <td>Foreign</td>\n",
       "      <td>188</td>\n",
       "    </tr>\n",
       "    <tr>\n",
       "      <th>18</th>\n",
       "      <td>TV Movie</td>\n",
       "      <td>167</td>\n",
       "    </tr>\n",
       "    <tr>\n",
       "      <th>19</th>\n",
       "      <td>Western</td>\n",
       "      <td>165</td>\n",
       "    </tr>\n",
       "  </tbody>\n",
       "</table>\n",
       "</div>"
      ]
     },
     "execution_count": 11,
     "metadata": {},
     "output_type": "execute_result"
    }
   ],
   "execution_count": 11
  },
  {
   "metadata": {
    "ExecuteTime": {
     "end_time": "2025-10-07T17:50:39.305219Z",
     "start_time": "2025-10-07T17:50:39.301242Z"
    }
   },
   "cell_type": "code",
   "source": "",
   "id": "8965bf7372d86002",
   "outputs": [],
   "execution_count": null
  },
  {
   "metadata": {
    "ExecuteTime": {
     "end_time": "2025-10-07T17:50:39.358184Z",
     "start_time": "2025-10-07T17:50:39.353827Z"
    }
   },
   "cell_type": "code",
   "source": "",
   "id": "b17157029aa451ea",
   "outputs": [],
   "execution_count": null
  },
  {
   "metadata": {
    "ExecuteTime": {
     "end_time": "2025-10-07T17:50:39.447137Z",
     "start_time": "2025-10-07T17:50:39.443013Z"
    }
   },
   "cell_type": "code",
   "source": "",
   "id": "55e45e9f142ab880",
   "outputs": [],
   "execution_count": null
  },
  {
   "metadata": {
    "ExecuteTime": {
     "end_time": "2025-10-07T17:50:39.484988Z",
     "start_time": "2025-10-07T17:50:39.480793Z"
    }
   },
   "cell_type": "code",
   "source": "",
   "id": "57a9587a38b3ffd2",
   "outputs": [],
   "execution_count": null
  },
  {
   "metadata": {
    "ExecuteTime": {
     "end_time": "2025-10-07T17:50:39.573690Z",
     "start_time": "2025-10-07T17:50:39.570359Z"
    }
   },
   "cell_type": "code",
   "source": "",
   "id": "2596a3cc22e8f76",
   "outputs": [],
   "execution_count": null
  },
  {
   "metadata": {
    "ExecuteTime": {
     "end_time": "2025-10-07T17:50:39.624426Z",
     "start_time": "2025-10-07T17:50:39.620631Z"
    }
   },
   "cell_type": "code",
   "source": "",
   "id": "66f7139117d91a2e",
   "outputs": [],
   "execution_count": null
  },
  {
   "metadata": {
    "ExecuteTime": {
     "end_time": "2025-10-07T17:50:39.677401Z",
     "start_time": "2025-10-07T17:50:39.673422Z"
    }
   },
   "cell_type": "code",
   "source": "",
   "id": "5cf90d9d6e7026e0",
   "outputs": [],
   "execution_count": null
  },
  {
   "metadata": {
    "ExecuteTime": {
     "end_time": "2025-10-07T17:50:39.767246Z",
     "start_time": "2025-10-07T17:50:39.762941Z"
    }
   },
   "cell_type": "code",
   "source": "",
   "id": "76d7fb2cd0155ca0",
   "outputs": [],
   "execution_count": null
  }
 ],
 "metadata": {
  "kernelspec": {
   "display_name": "Python (project3)",
   "language": "python",
   "name": "project3-venv"
  },
  "language_info": {
   "codemirror_mode": {
    "name": "ipython",
    "version": 2
   },
   "file_extension": ".py",
   "mimetype": "text/x-python",
   "name": "python",
   "nbconvert_exporter": "python",
   "pygments_lexer": "ipython2",
   "version": "2.7.6"
  }
 },
 "nbformat": 4,
 "nbformat_minor": 5
}
